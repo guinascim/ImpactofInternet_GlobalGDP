{
 "cells": [
  {
   "cell_type": "code",
   "execution_count": 1,
   "metadata": {},
   "outputs": [],
   "source": [
    "import pandas as pd\n",
    "gdp = pd.read_csv(\"cleaned_gdp_M.csv\")\n",
    "net = pd.read_csv(\"Internt_users_M2.csv\")\n",
    "\n",
    "def russia(value):\n",
    "    if value == \"Russian Federation\":\n",
    "        return \"Russia\"\n",
    "    else:\n",
    "        return value\n",
    "    \n",
    "\n",
    "gdp[\"Country\"] = gdp[\"Country\"].apply(russia)\n",
    "\n",
    "\n",
    "full_df = pd.merge(left = gdp,\n",
    "         right = net,\n",
    "         left_on = [\"Country\", \"variable\"],\n",
    "         right_on = [\"Country\", \"variable\"],\n",
    "         how=\"outer\")\n",
    "\n",
    "\n",
    "full_df.drop(columns=[\"Unnamed: 0_x\", \"Unnamed: 0_y\"], inplace=True)\n",
    "full_df.columns = [\"country\", \"year\", \"gdp\", \"internet\"]\n",
    "\n",
    "\n",
    "\n",
    "\n",
    "\n",
    "\n",
    "\n",
    "\n",
    "\n"
   ]
  }
 ],
 "metadata": {
  "kernelspec": {
   "display_name": "base",
   "language": "python",
   "name": "python3"
  },
  "language_info": {
   "codemirror_mode": {
    "name": "ipython",
    "version": 3
   },
   "file_extension": ".py",
   "mimetype": "text/x-python",
   "name": "python",
   "nbconvert_exporter": "python",
   "pygments_lexer": "ipython3",
   "version": "3.11.5"
  }
 },
 "nbformat": 4,
 "nbformat_minor": 2
}
