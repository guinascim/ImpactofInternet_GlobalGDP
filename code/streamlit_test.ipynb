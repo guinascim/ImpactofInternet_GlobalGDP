{
 "cells": [
  {
   "cell_type": "code",
   "execution_count": 1,
   "metadata": {},
   "outputs": [
    {
     "name": "stderr",
     "output_type": "stream",
     "text": [
      "2024-03-12 12:51:04.786 \n",
      "  \u001b[33m\u001b[1mWarning:\u001b[0m to view this Streamlit app on a browser, run it with the following\n",
      "  command:\n",
      "\n",
      "    streamlit run /Users/ioutlet/anaconda3/lib/python3.11/site-packages/ipykernel_launcher.py [ARGUMENTS]\n"
     ]
    },
    {
     "data": {
      "text/plain": [
       "DeltaGenerator()"
      ]
     },
     "execution_count": 1,
     "metadata": {},
     "output_type": "execute_result"
    }
   ],
   "source": [
    "import streamlit as st\n",
    "import pandas as pd\n",
    "import numpy as np\n",
    "import matplotlib.pyplot as plt\n",
    "import seaborn as sns\n",
    "from sklearn.linear_model import LinearRegression\n",
    "from sklearn.ensemble import RandomForestRegressor, GradientBoostingRegressor\n",
    "from sklearn.metrics import mean_squared_error, r2_score\n",
    "\n",
    "# Load CSV files\n",
    "df1 = pd.read_csv('cleaned_gdp2.csv')\n",
    "df2 = pd.read_csv('internet_users2.csv')\n",
    "\n",
    "# Title\n",
    "st.title('Global GDP and Internet Users Analysis')\n",
    "\n",
    "# Sidebar - Add interactive elements\n",
    "selected_analysis = st.sidebar.selectbox('Select Analysis', ['GDP and Users Predictions', 'Correlation Analysis', 'Heatmap', 'Regression Models'])\n",
    "\n",
    "if selected_analysis == 'GDP and Users Predictions':\n",
    "    # Plot GDP and Users Predictions\n",
    "    st.subheader('GDP and Users Predictions')\n",
    "    # Add code for plotting GDP and Users Predictions here\n",
    "\n",
    "elif selected_analysis == 'Correlation Analysis':\n",
    "    # Plot Correlation Analysis\n",
    "    st.subheader('Correlation Analysis')\n",
    "    # Add code for correlation analysis plot here\n",
    "\n",
    "elif selected_analysis == 'Heatmap':\n",
    "    # Plot Heatmap\n",
    "    st.subheader('Heatmap')\n",
    "    # Add code for heatmap plot here\n",
    "\n",
    "elif selected_analysis == 'Regression Models':\n",
    "    # Regression Models\n",
    "    st.subheader('Regression Models')\n",
    "    # Add code for regression models analysis here\n",
    "\n",
    "# Display Results\n",
    "st.subheader('Analysis Results')\n",
    "# Add code to display analysis results here\n",
    "\n"
   ]
  }
 ],
 "metadata": {
  "kernelspec": {
   "display_name": "base",
   "language": "python",
   "name": "python3"
  },
  "language_info": {
   "codemirror_mode": {
    "name": "ipython",
    "version": 3
   },
   "file_extension": ".py",
   "mimetype": "text/x-python",
   "name": "python",
   "nbconvert_exporter": "python",
   "pygments_lexer": "ipython3",
   "version": "3.11.5"
  }
 },
 "nbformat": 4,
 "nbformat_minor": 2
}
